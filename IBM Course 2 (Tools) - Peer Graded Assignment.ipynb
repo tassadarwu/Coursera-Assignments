{
    "cells": [
        {
            "metadata": {},
            "cell_type": "markdown",
            "source": "Guidelines for the submission:\n\nCreate your Jupyter Notebook on IBM Watson Studio.\n\nInclude at least 6 cells:\n\n1. Cell 1 (rendered as Markdown): The title should be \"My Jupyter Notebook on IBM Watson Studio\", in H1 header styling. The title does not need to be centered.\n1. Cell 2 (rendered as Markdown): Include your name, in bold characters. In the line below your name, write your current or desired occupation in regular font.\n1. Cell 3 (rendered as Markdown): In italic formatting, write one or two sentences about why you are interested in data science. For example, you can start your first sentence with \"I am interested in data science because ...\".\n1. Cell 4 (rendered as Markdown): In H3 header styling, explain in a short sentence what your code is supposed to do in Cell 5.\n1. Cell 5 (code cell): Your code, as described in Cell 4. It must be executed and must display an output. Try to keep the code simple (it can even be \"1 + 1\").\n1. Cell 6 (rendered as Markdown): Using Markdown or HTML, this cell must include at least 3 of the following: horizontal rule, bulleted list, numbered list, tables, hyperlinks, images, code/syntax highlighting, blocked quotes, strikethrough."
        },
        {
            "metadata": {
                "collapsed": true
            },
            "cell_type": "markdown",
            "source": "# My Jupyter Notebook on IBM Watson Studio"
        },
        {
            "metadata": {},
            "cell_type": "markdown",
            "source": "**Edward Wu**\n\nData Scientist"
        },
        {
            "metadata": {},
            "cell_type": "markdown",
            "source": "*I am interested in data science because I have always had a fascination with technology and after going to college for pre-med and then business management, I have developed an interest in statistical studies.*"
        },
        {
            "metadata": {},
            "cell_type": "markdown",
            "source": "### Simple code evaluating 18 times 25 divided by 5 (18*25/5)"
        },
        {
            "metadata": {},
            "cell_type": "code",
            "source": "18*25/5",
            "execution_count": 1,
            "outputs": [
                {
                    "output_type": "execute_result",
                    "execution_count": 1,
                    "data": {
                        "text/plain": "90.0"
                    },
                    "metadata": {}
                }
            ]
        },
        {
            "metadata": {},
            "cell_type": "markdown",
            "source": "1. First numbered item on the list\n1. Second numbered item on the list (using number 1)\n1. Third numbered item on the list (still using number 1)\n  * Bullet point one (using asterisk)\n  - Bullet point two (using minus sign)\n  + Bullet point three (using plus sign)\n2. Another numbered item on list (using number 2)\n\n* Hyperlink to website with pictures of dogs from  [American Kennel Club](https://www.akc.org/expert-advice/lifestyle/35-perfect-pictures-of-dogs/)\n* Example of picture from website:\n![alt-text](http://cdn.akc.org/content/article-body-image/great_pyr_puppy_dog_pictures_.jpg \"Cute Fluffy Dog that Liv Likes\")"
        }
    ],
    "metadata": {
        "kernelspec": {
            "name": "python3",
            "display_name": "Python 3.6",
            "language": "python"
        },
        "language_info": {
            "name": "python",
            "version": "3.6.9",
            "mimetype": "text/x-python",
            "codemirror_mode": {
                "name": "ipython",
                "version": 3
            },
            "pygments_lexer": "ipython3",
            "nbconvert_exporter": "python",
            "file_extension": ".py"
        }
    },
    "nbformat": 4,
    "nbformat_minor": 1
}