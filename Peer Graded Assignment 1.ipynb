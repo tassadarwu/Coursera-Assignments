{
    "cells": [
        {
            "metadata": {
                "collapsed": true
            },
            "cell_type": "markdown",
            "source": "# My Jupyter Notebook on IBM Watson Studio"
        },
        {
            "metadata": {},
            "cell_type": "markdown",
            "source": "**Edward Wu**\n\nData Scientist"
        },
        {
            "metadata": {},
            "cell_type": "markdown",
            "source": "*I am interested in data science because I have always had a fascination with technology, and after going to college for pre-med and then business developed an interest in statistical studies.*"
        },
        {
            "metadata": {},
            "cell_type": "markdown",
            "source": "### Simple code evaluating 18 times 25 divided by 5 (18*25/5)"
        },
        {
            "metadata": {},
            "cell_type": "code",
            "source": "18*25/5",
            "execution_count": 5,
            "outputs": [
                {
                    "output_type": "error",
                    "ename": "TypeError",
                    "evalue": "eval() arg 1 must be a string, bytes or code object",
                    "traceback": [
                        "\u001b[0;31m---------------------------------------------------------------------------\u001b[0m",
                        "\u001b[0;31mTypeError\u001b[0m                                 Traceback (most recent call last)",
                        "\u001b[0;32m<ipython-input-5-bda29a495711>\u001b[0m in \u001b[0;36m<module>\u001b[0;34m\u001b[0m\n\u001b[0;32m----> 1\u001b[0;31m \u001b[0meval\u001b[0m\u001b[0;34m(\u001b[0m\u001b[0;36m18\u001b[0m\u001b[0;34m*\u001b[0m\u001b[0;36m25\u001b[0m\u001b[0;34m/\u001b[0m\u001b[0;36m5\u001b[0m\u001b[0;34m)\u001b[0m\u001b[0;34m\u001b[0m\u001b[0;34m\u001b[0m\u001b[0m\n\u001b[0m",
                        "\u001b[0;31mTypeError\u001b[0m: eval() arg 1 must be a string, bytes or code object"
                    ]
                }
            ]
        },
        {
            "metadata": {},
            "cell_type": "markdown",
            "source": "1. First numbered item on the list\n1. Second numbered item on the list (using number 1)\n1. Third numbered item on the list (still using number 1)\n  * Bullet point one (using asterisk)\n  - Bullet point two (using minus sign)\n  + Bullet point three (using plus sign)\n2. Another numbered item on list (using number 2)\n\n* Hyperlink to website with pictures of dogs from  [American Kennel Club](https://www.akc.org/expert-advice/lifestyle/35-perfect-pictures-of-dogs/)\n* Example of picture from website:\n![alt-text](http://cdn.akc.org/content/article-body-image/great_pyr_puppy_dog_pictures_.jpg \"Cute Fluffy Dog that Liv Likes\")"
        }
    ],
    "metadata": {
        "kernelspec": {
            "name": "python3",
            "display_name": "Python 3.6",
            "language": "python"
        },
        "language_info": {
            "name": "python",
            "version": "3.6.9",
            "mimetype": "text/x-python",
            "codemirror_mode": {
                "name": "ipython",
                "version": 3
            },
            "pygments_lexer": "ipython3",
            "nbconvert_exporter": "python",
            "file_extension": ".py"
        }
    },
    "nbformat": 4,
    "nbformat_minor": 1
}